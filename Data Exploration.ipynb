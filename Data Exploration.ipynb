{
 "cells": [
  {
   "cell_type": "code",
   "execution_count": null,
   "id": "b42c5e01",
   "metadata": {},
   "outputs": [],
   "source": [
    "# call the library\n",
    "\n",
    "# to generate data processing and visualization tools\n",
    "import matplotlib.pyplot as plt\n",
    "import seaborn as sns\n",
    "\n",
    "# text processing and visualization\n",
    "import nltk\n",
    "import string\n",
    "from wordcloud import WordCloud\n",
    "from textblob import TextBlob\n",
    "from nltk.corpus import stopwords\n",
    "from nltk.tokenize import word_tokenize\n",
    "from nltk.stem import PorterStemmer"
   ]
  },
  {
   "cell_type": "markdown",
   "id": "1fe30c34",
   "metadata": {},
   "source": [
    "# **Fetch Dataset From UCI Machine Learning Repository**\n",
    "\n",
    "The coding on fetching dataset was retrieved from: <br>\n",
    "Kallumadi, S. & Grer, F. (2018). Drug Reviews (Drugs.com) [Dataset]. UCI Machine Learning Repository. https://doi.org/10.24432/C5SK5S.\n",
    "\n",
    "<br>\n",
    "\n",
    "The dataset consists of **215063** drug reviews from patient. <br>\n",
    "The dataset consists of the features **drugName, condition, review, rating, date, usefulCount**."
   ]
  },
  {
   "cell_type": "code",
   "execution_count": null,
   "id": "a342478e",
   "metadata": {},
   "outputs": [],
   "source": [
    "# install the ucimlrepo package to access UCI Machine Learning Repository datasets\n",
    "! pip install ucimlrepo"
   ]
  },
  {
   "cell_type": "code",
   "execution_count": null,
   "id": "72dcc59c",
   "metadata": {},
   "outputs": [],
   "source": [
    "# Kallumadi, S. & Grer, F. (2018).\n",
    "# Drug Reviews (Drugs.com) [Dataset].\n",
    "# UCI Machine Learning Repository. https://doi.org/10.24432/C5SK5S.\n",
    "\n",
    "from ucimlrepo import fetch_ucirepo\n",
    "\n",
    "# fetch dataset\n",
    "drug_reviews_drugs_com = fetch_ucirepo(id=462)"
   ]
  },
  {
   "cell_type": "code",
   "execution_count": null,
   "id": "e8be1225",
   "metadata": {},
   "outputs": [],
   "source": [
    "# get data\n",
    "df = drug_reviews_drugs_com.data.features\n",
    "\n",
    "# view dataset\n",
    "df.head()"
   ]
  },
  {
   "cell_type": "markdown",
   "id": "67fd5f2d",
   "metadata": {},
   "source": [
    "# **Exploratory Data Analysis**\n",
    "\n",
    "In this section, **explore the distribution and characteristics** of the dataset, including patient ratings, usefulness of reviews, health conditions, and drug names. This helps in **identifying patterns, outliers, and overall trends** before proceeding to deeper analysis.\n",
    "\n",
    "<br>\n",
    "\n",
    "Additionally, **perform text processing and normalization** on the review texts to prepare the data for sentiment analysis. This involves cleaning the text, removing noise, and extracting sentiment polarity and categories. The processed sentiments will be used to **generate insightful visualizations** such as word clouds, highlighting key themes in positive, neutral, and negative reviews.\n",
    "\n"
   ]
  },
  {
   "cell_type": "code",
   "execution_count": null,
   "id": "05361bfe",
   "metadata": {},
   "outputs": [],
   "source": [
    "# get dimension of dataset\n",
    "print(df.shape)\n",
    "\n",
    "# get the number of reviews and features\n",
    "print(f\"The dataset consists of\",df.shape[0], \"drug reviews from patient.\")\n",
    "print(f\"The dataset consists of the features\",', '.join(df.columns))"
   ]
  },
  {
   "cell_type": "markdown",
   "id": "70dc65b0",
   "metadata": {},
   "source": [
    "## **Numerical Data Type Exploration**\n",
    "\n",
    "**1. Rating Distribution** <br>\n",
    "The **rating value was starting from 1 to 10** in which 1 represented the patient was dissatisfied with the drug meanwhile 10 represented the patient was satisfied with the drug. From the figure below, the **rating 10 showed highest frequency** indicated that majority of patients had the better drug experience. <br>\n",
    "\n",
    "**2. Useful Count Distribution** <br>\n",
    "The usefulCount column represents **the number of people who found a review helpful**. Although the boxplot shows many values as outliers due to their high counts, these **outliers are real and valid data points** rather than errors. They indicate particularly influential or high-quality reviews that many users found useful. Therefore, these outliers reflect the true distribution of user engagement and should be interpreted as valuable insights rather than anomalies."
   ]
  },
  {
   "cell_type": "code",
   "execution_count": null,
   "id": "aa329ec8",
   "metadata": {},
   "outputs": [],
   "source": [
    "# count the occurrences of rating\n",
    "counts = df['rating'].value_counts()\n",
    "\n",
    "# histogram for rating\n",
    "plt.figure(figsize=(10, 6))\n",
    "plt.bar(counts.index, counts.values, color='blue', edgecolor='black')\n",
    "plt.xlabel('Rating')\n",
    "plt.ylabel('Frequency')\n",
    "plt.title(f'Histogram of Rating')\n",
    "plt.xticks(counts.index)\n",
    "plt.show()"
   ]
  },
  {
   "cell_type": "code",
   "execution_count": null,
   "id": "a19b7a62",
   "metadata": {},
   "outputs": [],
   "source": [
    "# find outliers for usefulCount\n",
    "sns.boxplot(y=df['usefulCount'])\n",
    "plt.title('Boxplot of usefulCount')\n",
    "plt.ylabel('usefulCount')\n",
    "plt.show()\n",
    "\n",
    "# try to replace outliers with mean and median\n",
    "# but the distribution will be different from ori one, have 2 peaks"
   ]
  },
  {
   "cell_type": "code",
   "execution_count": null,
   "id": "41eb2ac4",
   "metadata": {},
   "outputs": [],
   "source": [
    "# scatter plot between 'rating' and 'usefulCount'\n",
    "plt.figure(figsize=(10, 6))\n",
    "plt.scatter(df['rating'], df['usefulCount'], alpha=0.5)\n",
    "\n",
    "plt.title('Scatter Plot of Rating vs Useful Count')\n",
    "plt.xlabel('Rating')\n",
    "plt.ylabel('Useful Count')\n",
    "rating_count = sorted(df['rating'].unique())\n",
    "plt.xticks(rating_count)\n",
    "\n",
    "# Show the plot\n",
    "plt.show()"
   ]
  },
  {
   "cell_type": "markdown",
   "id": "91ae3291",
   "metadata": {},
   "source": [
    "## **Object Data Type Exploration**\n",
    "\n",
    "**1. Condition Distribution**\n",
    "There are **total of 916 conditions** that had been involved in the dataset. The conditions represented as the **specific health issues** that the drug being used by the patient. Among 916 conditions, birth control achieved the highest frequency at 38436.<br>\n",
    "\n",
    "**2. Drug Name Distribution**\n",
    "There are **total of 3671 drugs** that had been involved in the dataset. The drug represented as the **drug being used** by the patient. Among 3671 drugs, levonorgestrel achieved the highest frequency at 4930"
   ]
  },
  {
   "cell_type": "code",
   "execution_count": null,
   "id": "cd7c72e7",
   "metadata": {},
   "outputs": [],
   "source": [
    "# count the occurrences of condition\n",
    "counts = df['condition'].value_counts()\n",
    "\n",
    "# get the top 10 most frequent conditions\n",
    "top_10_conditions = counts.head(10)\n",
    "\n",
    "# plot the bar chart for the top 10 conditions\n",
    "top_10_conditions.plot(kind='bar', figsize=(12, 6), color='blue', edgecolor='black')\n",
    "plt.title('Frequency of Conditions')\n",
    "plt.xlabel('Condition')\n",
    "plt.ylabel('Count')\n",
    "plt.show()"
   ]
  },
  {
   "cell_type": "code",
   "execution_count": null,
   "id": "8120246a",
   "metadata": {},
   "outputs": [],
   "source": [
    "# count the occurrences of condition\n",
    "counts = df['condition'].value_counts()\n",
    "\n",
    "# get the least 10 most frequent conditions\n",
    "least_10_conditions = counts.tail(10)\n",
    "\n",
    "# plot the bar chart for the top 10 conditions\n",
    "least_10_conditions.plot(kind='bar', figsize=(12, 6), color='blue', edgecolor='black')\n",
    "plt.title('Frequency of Conditions')\n",
    "plt.xlabel('Least 10 Condition')\n",
    "plt.ylabel('Count')\n",
    "plt.show()"
   ]
  },
  {
   "cell_type": "code",
   "execution_count": null,
   "id": "09d7adc0",
   "metadata": {},
   "outputs": [],
   "source": [
    "# identify the condition with only one frequency\n",
    "one_frequency_conditions = counts[counts == 1]\n",
    "\n",
    "# obtained only the condition without value counts\n",
    "one_frequency_conditions = one_frequency_conditions.index.tolist()\n",
    "print(\"The number of conditions with only one count: \", len(one_frequency_conditions))\n",
    "print(one_frequency_conditions)"
   ]
  },
  {
   "cell_type": "code",
   "execution_count": null,
   "id": "d7450e42",
   "metadata": {},
   "outputs": [],
   "source": [
    "# count the occurrences of drugName\n",
    "counts = df['drugName'].value_counts()\n",
    "\n",
    "# get the top 10 most frequent conditions\n",
    "top_10_drugs = counts.head(10)\n",
    "\n",
    "# plot the bar chart for the top 10 conditions\n",
    "top_10_drugs.plot(kind='bar', figsize=(12, 6), color='blue', edgecolor='black')\n",
    "plt.title('Frequency of Drug')\n",
    "plt.xlabel('Drug')\n",
    "plt.ylabel('Count')\n",
    "plt.show()"
   ]
  },
  {
   "cell_type": "code",
   "execution_count": null,
   "id": "5e86fc0d",
   "metadata": {},
   "outputs": [],
   "source": [
    "# get the least 10 frequent conditions\n",
    "least_10_drugs = counts.tail(10)\n",
    "\n",
    "# plot the bar chart for the top 10 conditions\n",
    "least_10_drugs.plot(kind='bar', figsize=(12, 6), color='blue', edgecolor='black')\n",
    "plt.title('Frequency of Drug')\n",
    "plt.xlabel('Least 10 Drug')\n",
    "plt.ylabel('Count')\n",
    "plt.show()"
   ]
  },
  {
   "cell_type": "code",
   "execution_count": null,
   "id": "1beae9ba",
   "metadata": {},
   "outputs": [],
   "source": [
    "# identify the condition with only one frequency\n",
    "one_frequency_drugName = counts[counts == 1]\n",
    "\n",
    "# obtained only the condition without value counts\n",
    "one_frequency_drugName = one_frequency_drugName.index.tolist()\n",
    "print(\"The number of conditions with only one count: \", len(one_frequency_drugName))\n",
    "print(one_frequency_drugName)"
   ]
  },
  {
   "cell_type": "markdown",
   "id": "213aec96",
   "metadata": {},
   "source": [
    "## **Textual Data Exploration**"
   ]
  },
  {
   "cell_type": "code",
   "execution_count": null,
   "id": "f573658e",
   "metadata": {},
   "outputs": [],
   "source": [
    "# downloade resource\n",
    "nltk.download('punkt_tab')\n",
    "nltk.download('stopwords')\n",
    "nltk.download('wordnet')"
   ]
  },
  {
   "cell_type": "code",
   "execution_count": null,
   "id": "03829382",
   "metadata": {},
   "outputs": [],
   "source": [
    "# initialize the tools\n",
    "stop_words = set(stopwords.words('english'))\n",
    "stemmer = PorterStemmer()"
   ]
  },
  {
   "cell_type": "markdown",
   "id": "ca998aaf",
   "metadata": {},
   "source": [
    "### **Text Processing and Normalization**"
   ]
  },
  {
   "cell_type": "code",
   "execution_count": null,
   "id": "6856beb5",
   "metadata": {},
   "outputs": [],
   "source": [
    "# text processing function to clean and normalize review text\n",
    "def text_processing(text):\n",
    "\n",
    "    \"\"\"\n",
    "    Clean and preprocess raw review text using NLP best practices:\n",
    "    - Lowercasing\n",
    "    - Tokenization\n",
    "    - Punctuation removal\n",
    "    - Stopword removal\n",
    "    - Stemming\n",
    "    \n",
    "    Args:\n",
    "        text (str): Raw text input\n",
    "    \n",
    "    Returns:\n",
    "        str: Preprocessed, cleaned text\n",
    "    \"\"\"\n",
    "\n",
    "    # lowercase\n",
    "    text = text.lower()\n",
    "\n",
    "    # tokenization\n",
    "    tokens = word_tokenize(text)\n",
    "\n",
    "    # punctuation removal\n",
    "    filtered = [word for word in tokens if word not in string.punctuation]\n",
    "\n",
    "    # stopwords removal\n",
    "    filtered_sw = [word for word in filtered if word not in stop_words]\n",
    "\n",
    "    # stemming\n",
    "    tokens = [stemmer.stem(word) for word in filtered_sw]\n",
    "\n",
    "    return \" \".join(tokens)"
   ]
  },
  {
   "cell_type": "code",
   "execution_count": null,
   "id": "f57162c4",
   "metadata": {},
   "outputs": [],
   "source": [
    "# to get sentiment polarity using TextBlob\n",
    "def getPolarity(review_text):\n",
    "    \"\"\"\n",
    "    Compute sentiment polarity of a given text.\n",
    "    Returns a float in range [-1.0, 1.0]:\n",
    "    -1.0 (very negative), 0.0 (neutral), 1.0 (very positive)\n",
    "\n",
    "    Args:\n",
    "        review_text (str): The review text\n",
    "    \n",
    "    Returns:\n",
    "        float: Sentiment polarity score\n",
    "    \"\"\"\n",
    "    \n",
    "    return TextBlob(review_text).sentiment.polarity"
   ]
  },
  {
   "cell_type": "code",
   "execution_count": null,
   "id": "0eb0fee4",
   "metadata": {},
   "outputs": [],
   "source": [
    "# to categorize polarity score into a sentiment label\n",
    "def getAnalysis(score):\n",
    "    \"\"\"\n",
    "    Categorize sentiment polarity score into descriptive labels.\n",
    "\n",
    "    Args:\n",
    "        score (float): Sentiment polarity score from TextBlob\n",
    "\n",
    "    Returns:\n",
    "        str: One of ['Negative', 'Neutral', 'Positive']\n",
    "    \"\"\"\n",
    "    if score < 0:\n",
    "        return \"Negative\"\n",
    "    elif score == 0:\n",
    "        return \"Neutral\"\n",
    "    else:\n",
    "        return \"Positive\""
   ]
  },
  {
   "cell_type": "code",
   "execution_count": null,
   "id": "9fa27e4c",
   "metadata": {},
   "outputs": [],
   "source": [
    "df['cleaned review'] = df['review'].apply(text_processing)\n",
    "df.head()"
   ]
  },
  {
   "cell_type": "code",
   "execution_count": null,
   "id": "8c286cc3",
   "metadata": {},
   "outputs": [],
   "source": [
    "df['TextBlob_Polarity'] = df['cleaned review'].apply(getPolarity)\n",
    "df.head()"
   ]
  },
  {
   "cell_type": "code",
   "execution_count": null,
   "id": "a7c6febe",
   "metadata": {},
   "outputs": [],
   "source": [
    "df[\"Sentiment Category\"] = df['TextBlob_Polarity'].apply(getAnalysis)\n",
    "df.head()"
   ]
  },
  {
   "cell_type": "markdown",
   "id": "8056b687",
   "metadata": {},
   "source": [
    "### **Generate Word Cloud**"
   ]
  },
  {
   "cell_type": "code",
   "execution_count": null,
   "id": "1f1aad03",
   "metadata": {},
   "outputs": [],
   "source": [
    "# assign the reviews based on sentiment\n",
    "positive_reviews = ' '.join(df[df['Sentiment Category'] == 'Positive']['cleaned review'])\n",
    "negative_reviews = ' '.join(df[df['Sentiment Category'] == 'Negative']['cleaned review'])\n",
    "neutral_reviews = ' '.join(df[df['Sentiment Category'] == 'Neutral']['cleaned review'])\n",
    "\n",
    "# split into words\n",
    "positive_words = positive_reviews.split()\n",
    "negative_words = negative_reviews.split()\n",
    "neutral_words = neutral_reviews.split()"
   ]
  },
  {
   "cell_type": "code",
   "execution_count": null,
   "id": "3d834647",
   "metadata": {},
   "outputs": [],
   "source": [
    "# find common words across all categories\n",
    "positive_word_set = set(positive_words)\n",
    "negative_word_set = set(negative_words)\n",
    "neutral_word_set = set(neutral_words)\n",
    "\n",
    "common_words = positive_word_set & negative_word_set & neutral_word_set\n",
    "\n",
    "# remove common words from each category\n",
    "positive_words = [word for word in positive_words if word not in common_words]\n",
    "negative_words = [word for word in negative_words if word not in common_words]\n",
    "neutral_words = [word for word in neutral_words if word not in common_words]"
   ]
  },
  {
   "cell_type": "code",
   "execution_count": null,
   "id": "da971423",
   "metadata": {},
   "outputs": [],
   "source": [
    "# join the words back\n",
    "positive_words = ' '.join(positive_words)\n",
    "negative_words = ' '.join(negative_words)\n",
    "neutral_words = ' '.join(neutral_words)\n",
    "\n",
    "# generate word clouds\n",
    "wordcloud_positive = WordCloud(width=800, height=400, background_color='white').generate(positive_words)\n",
    "wordcloud_negative = WordCloud(width=800, height=400, background_color='white').generate(negative_words)\n",
    "wordcloud_neutral = WordCloud(width=800, height=400, background_color='white').generate(neutral_words)\n",
    "\n",
    "# positive\n",
    "plt.figure(figsize=(10, 6))\n",
    "plt.imshow(wordcloud_positive, interpolation='bilinear')\n",
    "plt.axis('off')\n",
    "plt.title('Positive Reviews', fontsize=16)\n",
    "\n",
    "# negative\n",
    "plt.figure(figsize=(10, 6))\n",
    "plt.imshow(wordcloud_negative, interpolation='bilinear')\n",
    "plt.axis('off')\n",
    "plt.title('Negative Reviews', fontsize=16)\n",
    "\n",
    "# neutral\n",
    "plt.figure(figsize=(10, 6))\n",
    "plt.imshow(wordcloud_neutral, interpolation='bilinear')\n",
    "plt.axis('off')\n",
    "plt.title('Neutral Reviews', fontsize=16)\n",
    "\n",
    "plt.show()"
   ]
  }
 ],
 "metadata": {
  "kernelspec": {
   "display_name": "base",
   "language": "python",
   "name": "python3"
  },
  "language_info": {
   "name": "python",
   "version": "3.12.4"
  }
 },
 "nbformat": 4,
 "nbformat_minor": 5
}
