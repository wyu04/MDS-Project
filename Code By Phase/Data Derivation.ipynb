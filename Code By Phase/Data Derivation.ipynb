{
 "cells": [
  {
   "cell_type": "code",
   "execution_count": null,
   "id": "0a3191d9",
   "metadata": {},
   "outputs": [],
   "source": [
    "# call the library\n",
    "\n",
    "# to generate data processing and visualization tools\n",
    "import pandas as pd\n",
    "\n",
    "# parsing and timing utilities\n",
    "import json\n",
    "\n",
    "# openAI API integration\n",
    "import openai\n",
    "from openai import OpenAI"
   ]
  },
  {
   "cell_type": "markdown",
   "id": "ccba4471",
   "metadata": {},
   "source": [
    "# **Data Derivation**\n",
    "During data derivation, gpt-40-mini was called to extract the side effects and effectiveness from patient reviews. <br>\n",
    "In order to perform the derivation process: <br>\n",
    "1. OpenAI API Key was called\n",
    "2. Initialize the Model\n",
    "3. Provide the Prompt for Keywords"
   ]
  },
  {
   "cell_type": "code",
   "execution_count": null,
   "id": "fee22b33",
   "metadata": {},
   "outputs": [],
   "source": [
    "# retrieve the cleaned dataset\n",
    "drug_reviews = pd.read_csv('cleaned dataset.csv')\n",
    "drug_reviews.shape"
   ]
  },
  {
   "cell_type": "code",
   "execution_count": null,
   "id": "cadd425d",
   "metadata": {},
   "outputs": [],
   "source": [
    "drug_reviews.head()"
   ]
  },
  {
   "cell_type": "code",
   "execution_count": null,
   "id": "ad7746e6",
   "metadata": {},
   "outputs": [],
   "source": [
    "drug_reviews.info()"
   ]
  },
  {
   "cell_type": "markdown",
   "id": "55f95fc6",
   "metadata": {},
   "source": [
    "# **Call ChatGPT API**\n",
    "\n",
    "**Steps:** <br>\n",
    "1. Setup API Key\n",
    "2. Provide the instruction\n",
    "3. Initialize the model\n",
    "4. Extract the generated response\n",
    "5. Decode the JSON object\n",
    "6. Store into the dataset\n",
    "<br>\n",
    "\n",
    "**Discussion:** <br>\n",
    "ChatGPT will analyse each review to extract out the **side effects** and **effectiveness** of the drug taken by patients. <br>\n",
    "Two new columns name **side effects** and **effectiveness** will be added into dataset to store the the output."
   ]
  },
  {
   "cell_type": "code",
   "execution_count": null,
   "id": "2c470240",
   "metadata": {},
   "outputs": [],
   "source": [
    "! pip install openai\n",
    "! pip install --upgrade openai"
   ]
  },
  {
   "cell_type": "code",
   "execution_count": null,
   "id": "1d4d3bf3",
   "metadata": {},
   "outputs": [],
   "source": [
    "# call API key\n",
    "client = OpenAI(api_key=\"API_KEY\")"
   ]
  },
  {
   "cell_type": "code",
   "execution_count": null,
   "id": "f62fefdc",
   "metadata": {},
   "outputs": [],
   "source": [
    "# get the data\n",
    "patient_reviews = drug_reviews['review']\n",
    "\n",
    "# assign new columns\n",
    "drug_reviews['side effects'] = None\n",
    "drug_reviews['effectiveness'] = None"
   ]
  },
  {
   "cell_type": "code",
   "execution_count": null,
   "id": "f27c0b90",
   "metadata": {},
   "outputs": [],
   "source": [
    "# loop for each reviews to extract the keywords\n",
    "for i in range(0, len(drug_reviews)):\n",
    "\n",
    "  print(f\"Processing review {i + 1}/{len(drug_reviews)}\")\n",
    "\n",
    "  # get text data\n",
    "  text = patient_reviews[i]\n",
    "\n",
    "  # provide instruction to chatgpt\n",
    "  prompt = f\"\"\"\n",
    "             Analyze the following drug review and extract keywords that are specifically related to\n",
    "             side effects and the effectiveness of the drug. Provide the output as a JSON object with\n",
    "             two keys: 'side_effects' and 'effectiveness'.\n",
    "             ```{text}``` \"\"\"\n",
    "\n",
    "  try:\n",
    "    # call model\n",
    "    response = client.chat.completions.create(\n",
    "        model = 'gpt-4o-mini',\n",
    "        messages = [\n",
    "            {'role':'system', 'content': 'Provide output in valid JSON format.'},\n",
    "            {'role':'user', 'content': prompt}],\n",
    "        # deterministic and focus output\n",
    "        temperature = 0\n",
    "    )\n",
    "\n",
    "    # extract response to store in dataset\n",
    "    generated_text = response.choices[0].message.content\n",
    "\n",
    "    # remove the unneccessary words in json format\n",
    "    generated_text = generated_text.replace(\"```json\", \"\").replace(\"```\", \"\").strip()\n",
    "    print(generated_text)\n",
    "\n",
    "    # print(response)\n",
    "\n",
    "    # decode json\n",
    "    response_json = json.loads(generated_text)\n",
    "\n",
    "    drug_reviews['side effects'][i] = response_json.get('side_effects')\n",
    "    drug_reviews['effectiveness'][i] = response_json.get('effectiveness')\n",
    "\n",
    "    # generate the dataset\n",
    "    drug_reviews.to_csv(\"cleaned dataset.csv\", index=False)\n",
    "\n",
    "  # pass the error\n",
    "  except Exception as e:\n",
    "    print(\"Error in \", (i+1), \":\", e)\n",
    "\n",
    "  print(\"\\n\")"
   ]
  },
  {
   "cell_type": "code",
   "execution_count": null,
   "id": "0b57c53a",
   "metadata": {},
   "outputs": [],
   "source": [
    "drug_reviews.shape"
   ]
  },
  {
   "cell_type": "code",
   "execution_count": null,
   "id": "345454b8",
   "metadata": {},
   "outputs": [],
   "source": [
    "drug_reviews.head()"
   ]
  }
 ],
 "metadata": {
  "kernelspec": {
   "display_name": "base",
   "language": "python",
   "name": "python3"
  },
  "language_info": {
   "name": "python",
   "version": "3.12.4"
  }
 },
 "nbformat": 4,
 "nbformat_minor": 5
}
